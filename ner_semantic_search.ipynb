{
  "cells": [
    {
      "cell_type": "markdown",
      "metadata": {
        "id": "view-in-github",
        "colab_type": "text"
      },
      "source": [
        "<a href=\"https://colab.research.google.com/github/mnaaseri/ner_search/blob/main/ner_semantic_search.ipynb\" target=\"_parent\"><img src=\"https://colab.research.google.com/assets/colab-badge.svg\" alt=\"Open In Colab\"/></a>"
      ]
    },
    {
      "cell_type": "markdown",
      "metadata": {
        "id": "63tq0KVRnucw"
      },
      "source": [
        "[![Open In Colab](https://colab.research.google.com/assets/colab-badge.svg)](https://colab.research.google.com/github/pinecone-io/examples/blob/master/learn/search/semantic-search/ner-search/ner-powered-search.ipynb) [![Open nbviewer](https://raw.githubusercontent.com/pinecone-io/examples/master/assets/nbviewer-shield.svg)](https://nbviewer.org/github/pinecone-io/examples/blob/master/learn/search/semantic-search/ner-search/ner-powered-search.ipynb)"
      ]
    },
    {
      "cell_type": "markdown",
      "metadata": {
        "id": "zMAEGl3xfu6u"
      },
      "source": [
        "# NER Semantic Search Using Pinecone Indexing"
      ]
    },
    {
      "cell_type": "markdown",
      "metadata": {
        "id": "_iEQFegogJ7v"
      },
      "source": [
        "# Install Dependencies"
      ]
    },
    {
      "cell_type": "code",
      "execution_count": null,
      "metadata": {
        "colab": {
          "base_uri": "https://localhost:8080/"
        },
        "id": "kj2fUHdd_wzL",
        "outputId": "a96d8e23-4d23-49cd-9c4f-0d95a0db0b64"
      },
      "outputs": [
        {
          "output_type": "stream",
          "name": "stdout",
          "text": [
            "\u001b[2K     \u001b[90m━━━━━━━━━━━━━━━━━━━━━━━━━━━━━━━━━━━━━━━━\u001b[0m \u001b[32m86.0/86.0 kB\u001b[0m \u001b[31m1.9 MB/s\u001b[0m eta \u001b[36m0:00:00\u001b[0m\n",
            "\u001b[?25h  Preparing metadata (setup.py) ... \u001b[?25l\u001b[?25hdone\n",
            "\u001b[2K     \u001b[90m━━━━━━━━━━━━━━━━━━━━━━━━━━━━━━━━━━━━━━━━\u001b[0m \u001b[32m179.4/179.4 kB\u001b[0m \u001b[31m7.9 MB/s\u001b[0m eta \u001b[36m0:00:00\u001b[0m\n",
            "\u001b[2K     \u001b[90m━━━━━━━━━━━━━━━━━━━━━━━━━━━━━━━━━━━━━━━━\u001b[0m \u001b[32m521.2/521.2 kB\u001b[0m \u001b[31m10.5 MB/s\u001b[0m eta \u001b[36m0:00:00\u001b[0m\n",
            "\u001b[2K     \u001b[90m━━━━━━━━━━━━━━━━━━━━━━━━━━━━━━━━━━━━━━━━\u001b[0m \u001b[32m1.3/1.3 MB\u001b[0m \u001b[31m14.7 MB/s\u001b[0m eta \u001b[36m0:00:00\u001b[0m\n",
            "\u001b[2K     \u001b[90m━━━━━━━━━━━━━━━━━━━━━━━━━━━━━━━━━━━━━━━━\u001b[0m \u001b[32m62.5/62.5 kB\u001b[0m \u001b[31m6.9 MB/s\u001b[0m eta \u001b[36m0:00:00\u001b[0m\n",
            "\u001b[2K     \u001b[90m━━━━━━━━━━━━━━━━━━━━━━━━━━━━━━━━━━━━━━━━\u001b[0m \u001b[32m300.4/300.4 kB\u001b[0m \u001b[31m13.6 MB/s\u001b[0m eta \u001b[36m0:00:00\u001b[0m\n",
            "\u001b[2K     \u001b[90m━━━━━━━━━━━━━━━━━━━━━━━━━━━━━━━━━━━━━━━━\u001b[0m \u001b[32m115.3/115.3 kB\u001b[0m \u001b[31m13.8 MB/s\u001b[0m eta \u001b[36m0:00:00\u001b[0m\n",
            "\u001b[2K     \u001b[90m━━━━━━━━━━━━━━━━━━━━━━━━━━━━━━━━━━━━━━━━\u001b[0m \u001b[32m134.8/134.8 kB\u001b[0m \u001b[31m16.8 MB/s\u001b[0m eta \u001b[36m0:00:00\u001b[0m\n",
            "\u001b[?25h  Building wheel for sentence_transformers (setup.py) ... \u001b[?25l\u001b[?25hdone\n"
          ]
        }
      ],
      "source": [
        "!pip install sentence_transformers pinecone-client datasets -qU"
      ]
    },
    {
      "cell_type": "markdown",
      "source": [
        "## Import Libraries"
      ],
      "metadata": {
        "id": "S0r0cCL5mhPY"
      }
    },
    {
      "cell_type": "markdown",
      "metadata": {
        "id": "0YXIqN6DgPsc"
      },
      "source": [
        "# Load and Prepare Dataset"
      ]
    },
    {
      "cell_type": "markdown",
      "source": [
        "You can find the dataset I used [here](https://www.kaggle.com/datasets/mehranrafiee/persian-articles-for-labeling)"
      ],
      "metadata": {
        "id": "L-f-rlkLnycS"
      }
    },
    {
      "cell_type": "code",
      "source": [
        "import pandas as pd\n",
        "df = pd.read_csv(\"/virgool_dataset.csv\")\n",
        "df"
      ],
      "metadata": {
        "id": "WcEY-t9Y7Gpb",
        "outputId": "48452821-9d67-4a30-dff0-617dfe54a5d9",
        "colab": {
          "base_uri": "https://localhost:8080/",
          "height": 511
        }
      },
      "execution_count": null,
      "outputs": [
        {
          "output_type": "execute_result",
          "data": {
            "text/plain": [
              "                                                sentence  \\\n",
              "0      \\nعصر امروز، عصر اطّلاعات بوده و کامپیوتر به ش...   \n",
              "1      \\nبیش از دو ماه از قطعی اینترنت بین‌الملل در ۲...   \n",
              "2      \\nخیر، من استاد دانشگاه یا معلم مدرسه نیستم. ا...   \n",
              "3      \\nمن دو سال دیگر کنکور رشته انسانی دارم، حدود ...   \n",
              "4      \\nنویسندگی توی دنیای امروز کار آنچنان سختی نیس...   \n",
              "...                                                  ...   \n",
              "11863  \\nدر این مقاله می خواهیم به ۱۰ نکته مهم برای ا...   \n",
              "11864  \\n👈🏻ماهی یکی دوتا فیلم \\n👈🏻اکسل و گمز 💪🏻 ياد م...   \n",
              "11865  \\nبه مناسبت قرنطینه چالش شخصی با عنوان «چالش پ...   \n",
              "11866  \\n\\n۱- خطوط روی زبان هر فردی منحصر به خود اوست...   \n",
              "11867  \\nدرآمد تبلیغات در اینستاگرام\\nجواب اینه که بل...   \n",
              "\n",
              "                                                 subject  \\\n",
              "0                          راهنمای جامع برنامه‌‌نویس شدن   \n",
              "1            گزارشی از طولانی‌ترین قطعی اینترنت در ایران   \n",
              "2                    آسیب‌هایی که تقلب کردن برای من داشت   \n",
              "3                                     کار، کار کنکور است   \n",
              "4                                          شروع نویسندگی   \n",
              "...                                                  ...   \n",
              "11863          ۱۰ نکته مهم برای انتخاب کلمات کلیدی مناسب   \n",
              "11864                                       ۱۳۹۹ برای من   \n",
              "11865                   ۱۵ سریال برتر در ژانر درام جنایی   \n",
              "11866  ۲۰ حقیقت جالب راجع به بدن خود که شاید نمی دانستید   \n",
              "11867  ✅درآمد تبلیغات در اینستاگرام چقدر است؟ ✅ + 😍17...   \n",
              "\n",
              "                                                    link  \\\n",
              "0      https://virgool.io/@pouyan_01001010/ultimate-p...   \n",
              "1      https://virgool.io/@ali/%DA%AF%D8%B2%D8%A7%D8%...   \n",
              "2      https://virgool.io/@ARKhoshghalb/%DA%86%D8%B1%...   \n",
              "3      https://virgool.io/@HesamShams1/%D8%A8%D8%A7%D...   \n",
              "4      https://virgool.io/@ar.exhu/%D8%B4%D8%B1%D9%88...   \n",
              "...                                                  ...   \n",
              "11863  https://virgool.io/@clubseokaran/%DB%B1%DB%B0-...   \n",
              "11864  https://virgool.io/@eliiya/%DB%B1%DB%B3%DB%B9%...   \n",
              "11865  https://virgool.io/@javad.oftadeh/%DB%B1%DB%B5...   \n",
              "11866                                                NaN   \n",
              "11867  https://virgool.io/@farisabz1368/%D8%AF%D8%B1%...   \n",
              "\n",
              "                                                   label  \n",
              "0      ['برنامه\\u200cنویسی' 'کامپیوتر' 'نرم\\u200cافزا...  \n",
              "1                                            ['اینترنت']  \n",
              "2                     ['تقلب' 'مدرسه' 'دانشگاه' 'تحصیل']  \n",
              "3        ['کنکور' 'کنکور لعنتی' 'علوم انسانی' 'دانشگاه']  \n",
              "4      ['نویسندگی' 'بلاگینگ' 'شبکه اجتماعی' 'ویرگول' ...  \n",
              "...                                                  ...  \n",
              "11863  ['کلمات کلیدی' 'سئو سایت' 'بهینه سازی سایت' 'ب...  \n",
              "11864                                                 []  \n",
              "11865  ['سریال' 'بریکینگ بد' 'دارک' 'معرفی سریال' 'پی...  \n",
              "11866                                                 []  \n",
              "11867  ['اینستاگرام' 'درآمد از اینستاگرام' 'شبکه های ...  \n",
              "\n",
              "[11868 rows x 4 columns]"
            ],
            "text/html": [
              "\n",
              "  <div id=\"df-c15ae6ef-f241-42a5-ae7e-53a4696b4675\" class=\"colab-df-container\">\n",
              "    <div>\n",
              "<style scoped>\n",
              "    .dataframe tbody tr th:only-of-type {\n",
              "        vertical-align: middle;\n",
              "    }\n",
              "\n",
              "    .dataframe tbody tr th {\n",
              "        vertical-align: top;\n",
              "    }\n",
              "\n",
              "    .dataframe thead th {\n",
              "        text-align: right;\n",
              "    }\n",
              "</style>\n",
              "<table border=\"1\" class=\"dataframe\">\n",
              "  <thead>\n",
              "    <tr style=\"text-align: right;\">\n",
              "      <th></th>\n",
              "      <th>sentence</th>\n",
              "      <th>subject</th>\n",
              "      <th>link</th>\n",
              "      <th>label</th>\n",
              "    </tr>\n",
              "  </thead>\n",
              "  <tbody>\n",
              "    <tr>\n",
              "      <th>0</th>\n",
              "      <td>\\nعصر امروز، عصر اطّلاعات بوده و کامپیوتر به ش...</td>\n",
              "      <td>راهنمای جامع برنامه‌‌نویس شدن</td>\n",
              "      <td>https://virgool.io/@pouyan_01001010/ultimate-p...</td>\n",
              "      <td>['برنامه\\u200cنویسی' 'کامپیوتر' 'نرم\\u200cافزا...</td>\n",
              "    </tr>\n",
              "    <tr>\n",
              "      <th>1</th>\n",
              "      <td>\\nبیش از دو ماه از قطعی اینترنت بین‌الملل در ۲...</td>\n",
              "      <td>گزارشی از طولانی‌ترین قطعی اینترنت در ایران</td>\n",
              "      <td>https://virgool.io/@ali/%DA%AF%D8%B2%D8%A7%D8%...</td>\n",
              "      <td>['اینترنت']</td>\n",
              "    </tr>\n",
              "    <tr>\n",
              "      <th>2</th>\n",
              "      <td>\\nخیر، من استاد دانشگاه یا معلم مدرسه نیستم. ا...</td>\n",
              "      <td>آسیب‌هایی که تقلب کردن برای من داشت</td>\n",
              "      <td>https://virgool.io/@ARKhoshghalb/%DA%86%D8%B1%...</td>\n",
              "      <td>['تقلب' 'مدرسه' 'دانشگاه' 'تحصیل']</td>\n",
              "    </tr>\n",
              "    <tr>\n",
              "      <th>3</th>\n",
              "      <td>\\nمن دو سال دیگر کنکور رشته انسانی دارم، حدود ...</td>\n",
              "      <td>کار، کار کنکور است</td>\n",
              "      <td>https://virgool.io/@HesamShams1/%D8%A8%D8%A7%D...</td>\n",
              "      <td>['کنکور' 'کنکور لعنتی' 'علوم انسانی' 'دانشگاه']</td>\n",
              "    </tr>\n",
              "    <tr>\n",
              "      <th>4</th>\n",
              "      <td>\\nنویسندگی توی دنیای امروز کار آنچنان سختی نیس...</td>\n",
              "      <td>شروع نویسندگی</td>\n",
              "      <td>https://virgool.io/@ar.exhu/%D8%B4%D8%B1%D9%88...</td>\n",
              "      <td>['نویسندگی' 'بلاگینگ' 'شبکه اجتماعی' 'ویرگول' ...</td>\n",
              "    </tr>\n",
              "    <tr>\n",
              "      <th>...</th>\n",
              "      <td>...</td>\n",
              "      <td>...</td>\n",
              "      <td>...</td>\n",
              "      <td>...</td>\n",
              "    </tr>\n",
              "    <tr>\n",
              "      <th>11863</th>\n",
              "      <td>\\nدر این مقاله می خواهیم به ۱۰ نکته مهم برای ا...</td>\n",
              "      <td>۱۰ نکته مهم برای انتخاب کلمات کلیدی مناسب</td>\n",
              "      <td>https://virgool.io/@clubseokaran/%DB%B1%DB%B0-...</td>\n",
              "      <td>['کلمات کلیدی' 'سئو سایت' 'بهینه سازی سایت' 'ب...</td>\n",
              "    </tr>\n",
              "    <tr>\n",
              "      <th>11864</th>\n",
              "      <td>\\n👈🏻ماهی یکی دوتا فیلم \\n👈🏻اکسل و گمز 💪🏻 ياد م...</td>\n",
              "      <td>۱۳۹۹ برای من</td>\n",
              "      <td>https://virgool.io/@eliiya/%DB%B1%DB%B3%DB%B9%...</td>\n",
              "      <td>[]</td>\n",
              "    </tr>\n",
              "    <tr>\n",
              "      <th>11865</th>\n",
              "      <td>\\nبه مناسبت قرنطینه چالش شخصی با عنوان «چالش پ...</td>\n",
              "      <td>۱۵ سریال برتر در ژانر درام جنایی</td>\n",
              "      <td>https://virgool.io/@javad.oftadeh/%DB%B1%DB%B5...</td>\n",
              "      <td>['سریال' 'بریکینگ بد' 'دارک' 'معرفی سریال' 'پی...</td>\n",
              "    </tr>\n",
              "    <tr>\n",
              "      <th>11866</th>\n",
              "      <td>\\n\\n۱- خطوط روی زبان هر فردی منحصر به خود اوست...</td>\n",
              "      <td>۲۰ حقیقت جالب راجع به بدن خود که شاید نمی دانستید</td>\n",
              "      <td>NaN</td>\n",
              "      <td>[]</td>\n",
              "    </tr>\n",
              "    <tr>\n",
              "      <th>11867</th>\n",
              "      <td>\\nدرآمد تبلیغات در اینستاگرام\\nجواب اینه که بل...</td>\n",
              "      <td>✅درآمد تبلیغات در اینستاگرام چقدر است؟ ✅ + 😍17...</td>\n",
              "      <td>https://virgool.io/@farisabz1368/%D8%AF%D8%B1%...</td>\n",
              "      <td>['اینستاگرام' 'درآمد از اینستاگرام' 'شبکه های ...</td>\n",
              "    </tr>\n",
              "  </tbody>\n",
              "</table>\n",
              "<p>11868 rows × 4 columns</p>\n",
              "</div>\n",
              "    <div class=\"colab-df-buttons\">\n",
              "\n",
              "  <div class=\"colab-df-container\">\n",
              "    <button class=\"colab-df-convert\" onclick=\"convertToInteractive('df-c15ae6ef-f241-42a5-ae7e-53a4696b4675')\"\n",
              "            title=\"Convert this dataframe to an interactive table.\"\n",
              "            style=\"display:none;\">\n",
              "\n",
              "  <svg xmlns=\"http://www.w3.org/2000/svg\" height=\"24px\" viewBox=\"0 -960 960 960\">\n",
              "    <path d=\"M120-120v-720h720v720H120Zm60-500h600v-160H180v160Zm220 220h160v-160H400v160Zm0 220h160v-160H400v160ZM180-400h160v-160H180v160Zm440 0h160v-160H620v160ZM180-180h160v-160H180v160Zm440 0h160v-160H620v160Z\"/>\n",
              "  </svg>\n",
              "    </button>\n",
              "\n",
              "  <style>\n",
              "    .colab-df-container {\n",
              "      display:flex;\n",
              "      gap: 12px;\n",
              "    }\n",
              "\n",
              "    .colab-df-convert {\n",
              "      background-color: #E8F0FE;\n",
              "      border: none;\n",
              "      border-radius: 50%;\n",
              "      cursor: pointer;\n",
              "      display: none;\n",
              "      fill: #1967D2;\n",
              "      height: 32px;\n",
              "      padding: 0 0 0 0;\n",
              "      width: 32px;\n",
              "    }\n",
              "\n",
              "    .colab-df-convert:hover {\n",
              "      background-color: #E2EBFA;\n",
              "      box-shadow: 0px 1px 2px rgba(60, 64, 67, 0.3), 0px 1px 3px 1px rgba(60, 64, 67, 0.15);\n",
              "      fill: #174EA6;\n",
              "    }\n",
              "\n",
              "    .colab-df-buttons div {\n",
              "      margin-bottom: 4px;\n",
              "    }\n",
              "\n",
              "    [theme=dark] .colab-df-convert {\n",
              "      background-color: #3B4455;\n",
              "      fill: #D2E3FC;\n",
              "    }\n",
              "\n",
              "    [theme=dark] .colab-df-convert:hover {\n",
              "      background-color: #434B5C;\n",
              "      box-shadow: 0px 1px 3px 1px rgba(0, 0, 0, 0.15);\n",
              "      filter: drop-shadow(0px 1px 2px rgba(0, 0, 0, 0.3));\n",
              "      fill: #FFFFFF;\n",
              "    }\n",
              "  </style>\n",
              "\n",
              "    <script>\n",
              "      const buttonEl =\n",
              "        document.querySelector('#df-c15ae6ef-f241-42a5-ae7e-53a4696b4675 button.colab-df-convert');\n",
              "      buttonEl.style.display =\n",
              "        google.colab.kernel.accessAllowed ? 'block' : 'none';\n",
              "\n",
              "      async function convertToInteractive(key) {\n",
              "        const element = document.querySelector('#df-c15ae6ef-f241-42a5-ae7e-53a4696b4675');\n",
              "        const dataTable =\n",
              "          await google.colab.kernel.invokeFunction('convertToInteractive',\n",
              "                                                    [key], {});\n",
              "        if (!dataTable) return;\n",
              "\n",
              "        const docLinkHtml = 'Like what you see? Visit the ' +\n",
              "          '<a target=\"_blank\" href=https://colab.research.google.com/notebooks/data_table.ipynb>data table notebook</a>'\n",
              "          + ' to learn more about interactive tables.';\n",
              "        element.innerHTML = '';\n",
              "        dataTable['output_type'] = 'display_data';\n",
              "        await google.colab.output.renderOutput(dataTable, element);\n",
              "        const docLink = document.createElement('div');\n",
              "        docLink.innerHTML = docLinkHtml;\n",
              "        element.appendChild(docLink);\n",
              "      }\n",
              "    </script>\n",
              "  </div>\n",
              "\n",
              "\n",
              "<div id=\"df-d0be2d29-04c1-4c93-8ce8-6e5f0161ab9d\">\n",
              "  <button class=\"colab-df-quickchart\" onclick=\"quickchart('df-d0be2d29-04c1-4c93-8ce8-6e5f0161ab9d')\"\n",
              "            title=\"Suggest charts\"\n",
              "            style=\"display:none;\">\n",
              "\n",
              "<svg xmlns=\"http://www.w3.org/2000/svg\" height=\"24px\"viewBox=\"0 0 24 24\"\n",
              "     width=\"24px\">\n",
              "    <g>\n",
              "        <path d=\"M19 3H5c-1.1 0-2 .9-2 2v14c0 1.1.9 2 2 2h14c1.1 0 2-.9 2-2V5c0-1.1-.9-2-2-2zM9 17H7v-7h2v7zm4 0h-2V7h2v10zm4 0h-2v-4h2v4z\"/>\n",
              "    </g>\n",
              "</svg>\n",
              "  </button>\n",
              "\n",
              "<style>\n",
              "  .colab-df-quickchart {\n",
              "      --bg-color: #E8F0FE;\n",
              "      --fill-color: #1967D2;\n",
              "      --hover-bg-color: #E2EBFA;\n",
              "      --hover-fill-color: #174EA6;\n",
              "      --disabled-fill-color: #AAA;\n",
              "      --disabled-bg-color: #DDD;\n",
              "  }\n",
              "\n",
              "  [theme=dark] .colab-df-quickchart {\n",
              "      --bg-color: #3B4455;\n",
              "      --fill-color: #D2E3FC;\n",
              "      --hover-bg-color: #434B5C;\n",
              "      --hover-fill-color: #FFFFFF;\n",
              "      --disabled-bg-color: #3B4455;\n",
              "      --disabled-fill-color: #666;\n",
              "  }\n",
              "\n",
              "  .colab-df-quickchart {\n",
              "    background-color: var(--bg-color);\n",
              "    border: none;\n",
              "    border-radius: 50%;\n",
              "    cursor: pointer;\n",
              "    display: none;\n",
              "    fill: var(--fill-color);\n",
              "    height: 32px;\n",
              "    padding: 0;\n",
              "    width: 32px;\n",
              "  }\n",
              "\n",
              "  .colab-df-quickchart:hover {\n",
              "    background-color: var(--hover-bg-color);\n",
              "    box-shadow: 0 1px 2px rgba(60, 64, 67, 0.3), 0 1px 3px 1px rgba(60, 64, 67, 0.15);\n",
              "    fill: var(--button-hover-fill-color);\n",
              "  }\n",
              "\n",
              "  .colab-df-quickchart-complete:disabled,\n",
              "  .colab-df-quickchart-complete:disabled:hover {\n",
              "    background-color: var(--disabled-bg-color);\n",
              "    fill: var(--disabled-fill-color);\n",
              "    box-shadow: none;\n",
              "  }\n",
              "\n",
              "  .colab-df-spinner {\n",
              "    border: 2px solid var(--fill-color);\n",
              "    border-color: transparent;\n",
              "    border-bottom-color: var(--fill-color);\n",
              "    animation:\n",
              "      spin 1s steps(1) infinite;\n",
              "  }\n",
              "\n",
              "  @keyframes spin {\n",
              "    0% {\n",
              "      border-color: transparent;\n",
              "      border-bottom-color: var(--fill-color);\n",
              "      border-left-color: var(--fill-color);\n",
              "    }\n",
              "    20% {\n",
              "      border-color: transparent;\n",
              "      border-left-color: var(--fill-color);\n",
              "      border-top-color: var(--fill-color);\n",
              "    }\n",
              "    30% {\n",
              "      border-color: transparent;\n",
              "      border-left-color: var(--fill-color);\n",
              "      border-top-color: var(--fill-color);\n",
              "      border-right-color: var(--fill-color);\n",
              "    }\n",
              "    40% {\n",
              "      border-color: transparent;\n",
              "      border-right-color: var(--fill-color);\n",
              "      border-top-color: var(--fill-color);\n",
              "    }\n",
              "    60% {\n",
              "      border-color: transparent;\n",
              "      border-right-color: var(--fill-color);\n",
              "    }\n",
              "    80% {\n",
              "      border-color: transparent;\n",
              "      border-right-color: var(--fill-color);\n",
              "      border-bottom-color: var(--fill-color);\n",
              "    }\n",
              "    90% {\n",
              "      border-color: transparent;\n",
              "      border-bottom-color: var(--fill-color);\n",
              "    }\n",
              "  }\n",
              "</style>\n",
              "\n",
              "  <script>\n",
              "    async function quickchart(key) {\n",
              "      const quickchartButtonEl =\n",
              "        document.querySelector('#' + key + ' button');\n",
              "      quickchartButtonEl.disabled = true;  // To prevent multiple clicks.\n",
              "      quickchartButtonEl.classList.add('colab-df-spinner');\n",
              "      try {\n",
              "        const charts = await google.colab.kernel.invokeFunction(\n",
              "            'suggestCharts', [key], {});\n",
              "      } catch (error) {\n",
              "        console.error('Error during call to suggestCharts:', error);\n",
              "      }\n",
              "      quickchartButtonEl.classList.remove('colab-df-spinner');\n",
              "      quickchartButtonEl.classList.add('colab-df-quickchart-complete');\n",
              "    }\n",
              "    (() => {\n",
              "      let quickchartButtonEl =\n",
              "        document.querySelector('#df-d0be2d29-04c1-4c93-8ce8-6e5f0161ab9d button');\n",
              "      quickchartButtonEl.style.display =\n",
              "        google.colab.kernel.accessAllowed ? 'block' : 'none';\n",
              "    })();\n",
              "  </script>\n",
              "</div>\n",
              "    </div>\n",
              "  </div>\n"
            ]
          },
          "metadata": {},
          "execution_count": 4
        }
      ]
    },
    {
      "cell_type": "code",
      "source": [],
      "metadata": {
        "id": "c2Y-IJfQ7Shm"
      },
      "execution_count": null,
      "outputs": []
    },
    {
      "cell_type": "code",
      "execution_count": null,
      "metadata": {
        "colab": {
          "base_uri": "https://localhost:8080/",
          "height": 206
        },
        "id": "K8JvjJFgBTiP",
        "outputId": "c4ed4c69-b423-460e-fe73-c210c34f2493"
      },
      "outputs": [
        {
          "output_type": "execute_result",
          "data": {
            "text/plain": [
              "                                            sentence  \\\n",
              "0  \\nعصر امروز، عصر اطّلاعات بوده و کامپیوتر به ش...   \n",
              "1  \\nبیش از دو ماه از قطعی اینترنت بین‌الملل در ۲...   \n",
              "2  \\nخیر، من استاد دانشگاه یا معلم مدرسه نیستم. ا...   \n",
              "3  \\nمن دو سال دیگر کنکور رشته انسانی دارم، حدود ...   \n",
              "4  \\nنویسندگی توی دنیای امروز کار آنچنان سختی نیس...   \n",
              "\n",
              "                                       subject  \\\n",
              "0                راهنمای جامع برنامه‌‌نویس شدن   \n",
              "1  گزارشی از طولانی‌ترین قطعی اینترنت در ایران   \n",
              "2          آسیب‌هایی که تقلب کردن برای من داشت   \n",
              "3                           کار، کار کنکور است   \n",
              "4                                شروع نویسندگی   \n",
              "\n",
              "                                                link  \\\n",
              "0  https://virgool.io/@pouyan_01001010/ultimate-p...   \n",
              "1  https://virgool.io/@ali/%DA%AF%D8%B2%D8%A7%D8%...   \n",
              "2  https://virgool.io/@ARKhoshghalb/%DA%86%D8%B1%...   \n",
              "3  https://virgool.io/@HesamShams1/%D8%A8%D8%A7%D...   \n",
              "4  https://virgool.io/@ar.exhu/%D8%B4%D8%B1%D9%88...   \n",
              "\n",
              "                                               label  \n",
              "0  ['برنامه\\u200cنویسی' 'کامپیوتر' 'نرم\\u200cافزا...  \n",
              "1                                        ['اینترنت']  \n",
              "2                 ['تقلب' 'مدرسه' 'دانشگاه' 'تحصیل']  \n",
              "3    ['کنکور' 'کنکور لعنتی' 'علوم انسانی' 'دانشگاه']  \n",
              "4  ['نویسندگی' 'بلاگینگ' 'شبکه اجتماعی' 'ویرگول' ...  "
            ],
            "text/html": [
              "\n",
              "  <div id=\"df-d0d16648-0380-47ed-80a6-64d4901a40cb\" class=\"colab-df-container\">\n",
              "    <div>\n",
              "<style scoped>\n",
              "    .dataframe tbody tr th:only-of-type {\n",
              "        vertical-align: middle;\n",
              "    }\n",
              "\n",
              "    .dataframe tbody tr th {\n",
              "        vertical-align: top;\n",
              "    }\n",
              "\n",
              "    .dataframe thead th {\n",
              "        text-align: right;\n",
              "    }\n",
              "</style>\n",
              "<table border=\"1\" class=\"dataframe\">\n",
              "  <thead>\n",
              "    <tr style=\"text-align: right;\">\n",
              "      <th></th>\n",
              "      <th>sentence</th>\n",
              "      <th>subject</th>\n",
              "      <th>link</th>\n",
              "      <th>label</th>\n",
              "    </tr>\n",
              "  </thead>\n",
              "  <tbody>\n",
              "    <tr>\n",
              "      <th>0</th>\n",
              "      <td>\\nعصر امروز، عصر اطّلاعات بوده و کامپیوتر به ش...</td>\n",
              "      <td>راهنمای جامع برنامه‌‌نویس شدن</td>\n",
              "      <td>https://virgool.io/@pouyan_01001010/ultimate-p...</td>\n",
              "      <td>['برنامه\\u200cنویسی' 'کامپیوتر' 'نرم\\u200cافزا...</td>\n",
              "    </tr>\n",
              "    <tr>\n",
              "      <th>1</th>\n",
              "      <td>\\nبیش از دو ماه از قطعی اینترنت بین‌الملل در ۲...</td>\n",
              "      <td>گزارشی از طولانی‌ترین قطعی اینترنت در ایران</td>\n",
              "      <td>https://virgool.io/@ali/%DA%AF%D8%B2%D8%A7%D8%...</td>\n",
              "      <td>['اینترنت']</td>\n",
              "    </tr>\n",
              "    <tr>\n",
              "      <th>2</th>\n",
              "      <td>\\nخیر، من استاد دانشگاه یا معلم مدرسه نیستم. ا...</td>\n",
              "      <td>آسیب‌هایی که تقلب کردن برای من داشت</td>\n",
              "      <td>https://virgool.io/@ARKhoshghalb/%DA%86%D8%B1%...</td>\n",
              "      <td>['تقلب' 'مدرسه' 'دانشگاه' 'تحصیل']</td>\n",
              "    </tr>\n",
              "    <tr>\n",
              "      <th>3</th>\n",
              "      <td>\\nمن دو سال دیگر کنکور رشته انسانی دارم، حدود ...</td>\n",
              "      <td>کار، کار کنکور است</td>\n",
              "      <td>https://virgool.io/@HesamShams1/%D8%A8%D8%A7%D...</td>\n",
              "      <td>['کنکور' 'کنکور لعنتی' 'علوم انسانی' 'دانشگاه']</td>\n",
              "    </tr>\n",
              "    <tr>\n",
              "      <th>4</th>\n",
              "      <td>\\nنویسندگی توی دنیای امروز کار آنچنان سختی نیس...</td>\n",
              "      <td>شروع نویسندگی</td>\n",
              "      <td>https://virgool.io/@ar.exhu/%D8%B4%D8%B1%D9%88...</td>\n",
              "      <td>['نویسندگی' 'بلاگینگ' 'شبکه اجتماعی' 'ویرگول' ...</td>\n",
              "    </tr>\n",
              "  </tbody>\n",
              "</table>\n",
              "</div>\n",
              "    <div class=\"colab-df-buttons\">\n",
              "\n",
              "  <div class=\"colab-df-container\">\n",
              "    <button class=\"colab-df-convert\" onclick=\"convertToInteractive('df-d0d16648-0380-47ed-80a6-64d4901a40cb')\"\n",
              "            title=\"Convert this dataframe to an interactive table.\"\n",
              "            style=\"display:none;\">\n",
              "\n",
              "  <svg xmlns=\"http://www.w3.org/2000/svg\" height=\"24px\" viewBox=\"0 -960 960 960\">\n",
              "    <path d=\"M120-120v-720h720v720H120Zm60-500h600v-160H180v160Zm220 220h160v-160H400v160Zm0 220h160v-160H400v160ZM180-400h160v-160H180v160Zm440 0h160v-160H620v160ZM180-180h160v-160H180v160Zm440 0h160v-160H620v160Z\"/>\n",
              "  </svg>\n",
              "    </button>\n",
              "\n",
              "  <style>\n",
              "    .colab-df-container {\n",
              "      display:flex;\n",
              "      gap: 12px;\n",
              "    }\n",
              "\n",
              "    .colab-df-convert {\n",
              "      background-color: #E8F0FE;\n",
              "      border: none;\n",
              "      border-radius: 50%;\n",
              "      cursor: pointer;\n",
              "      display: none;\n",
              "      fill: #1967D2;\n",
              "      height: 32px;\n",
              "      padding: 0 0 0 0;\n",
              "      width: 32px;\n",
              "    }\n",
              "\n",
              "    .colab-df-convert:hover {\n",
              "      background-color: #E2EBFA;\n",
              "      box-shadow: 0px 1px 2px rgba(60, 64, 67, 0.3), 0px 1px 3px 1px rgba(60, 64, 67, 0.15);\n",
              "      fill: #174EA6;\n",
              "    }\n",
              "\n",
              "    .colab-df-buttons div {\n",
              "      margin-bottom: 4px;\n",
              "    }\n",
              "\n",
              "    [theme=dark] .colab-df-convert {\n",
              "      background-color: #3B4455;\n",
              "      fill: #D2E3FC;\n",
              "    }\n",
              "\n",
              "    [theme=dark] .colab-df-convert:hover {\n",
              "      background-color: #434B5C;\n",
              "      box-shadow: 0px 1px 3px 1px rgba(0, 0, 0, 0.15);\n",
              "      filter: drop-shadow(0px 1px 2px rgba(0, 0, 0, 0.3));\n",
              "      fill: #FFFFFF;\n",
              "    }\n",
              "  </style>\n",
              "\n",
              "    <script>\n",
              "      const buttonEl =\n",
              "        document.querySelector('#df-d0d16648-0380-47ed-80a6-64d4901a40cb button.colab-df-convert');\n",
              "      buttonEl.style.display =\n",
              "        google.colab.kernel.accessAllowed ? 'block' : 'none';\n",
              "\n",
              "      async function convertToInteractive(key) {\n",
              "        const element = document.querySelector('#df-d0d16648-0380-47ed-80a6-64d4901a40cb');\n",
              "        const dataTable =\n",
              "          await google.colab.kernel.invokeFunction('convertToInteractive',\n",
              "                                                    [key], {});\n",
              "        if (!dataTable) return;\n",
              "\n",
              "        const docLinkHtml = 'Like what you see? Visit the ' +\n",
              "          '<a target=\"_blank\" href=https://colab.research.google.com/notebooks/data_table.ipynb>data table notebook</a>'\n",
              "          + ' to learn more about interactive tables.';\n",
              "        element.innerHTML = '';\n",
              "        dataTable['output_type'] = 'display_data';\n",
              "        await google.colab.output.renderOutput(dataTable, element);\n",
              "        const docLink = document.createElement('div');\n",
              "        docLink.innerHTML = docLinkHtml;\n",
              "        element.appendChild(docLink);\n",
              "      }\n",
              "    </script>\n",
              "  </div>\n",
              "\n",
              "\n",
              "<div id=\"df-c72b3315-351d-460c-b616-7cee265063db\">\n",
              "  <button class=\"colab-df-quickchart\" onclick=\"quickchart('df-c72b3315-351d-460c-b616-7cee265063db')\"\n",
              "            title=\"Suggest charts\"\n",
              "            style=\"display:none;\">\n",
              "\n",
              "<svg xmlns=\"http://www.w3.org/2000/svg\" height=\"24px\"viewBox=\"0 0 24 24\"\n",
              "     width=\"24px\">\n",
              "    <g>\n",
              "        <path d=\"M19 3H5c-1.1 0-2 .9-2 2v14c0 1.1.9 2 2 2h14c1.1 0 2-.9 2-2V5c0-1.1-.9-2-2-2zM9 17H7v-7h2v7zm4 0h-2V7h2v10zm4 0h-2v-4h2v4z\"/>\n",
              "    </g>\n",
              "</svg>\n",
              "  </button>\n",
              "\n",
              "<style>\n",
              "  .colab-df-quickchart {\n",
              "      --bg-color: #E8F0FE;\n",
              "      --fill-color: #1967D2;\n",
              "      --hover-bg-color: #E2EBFA;\n",
              "      --hover-fill-color: #174EA6;\n",
              "      --disabled-fill-color: #AAA;\n",
              "      --disabled-bg-color: #DDD;\n",
              "  }\n",
              "\n",
              "  [theme=dark] .colab-df-quickchart {\n",
              "      --bg-color: #3B4455;\n",
              "      --fill-color: #D2E3FC;\n",
              "      --hover-bg-color: #434B5C;\n",
              "      --hover-fill-color: #FFFFFF;\n",
              "      --disabled-bg-color: #3B4455;\n",
              "      --disabled-fill-color: #666;\n",
              "  }\n",
              "\n",
              "  .colab-df-quickchart {\n",
              "    background-color: var(--bg-color);\n",
              "    border: none;\n",
              "    border-radius: 50%;\n",
              "    cursor: pointer;\n",
              "    display: none;\n",
              "    fill: var(--fill-color);\n",
              "    height: 32px;\n",
              "    padding: 0;\n",
              "    width: 32px;\n",
              "  }\n",
              "\n",
              "  .colab-df-quickchart:hover {\n",
              "    background-color: var(--hover-bg-color);\n",
              "    box-shadow: 0 1px 2px rgba(60, 64, 67, 0.3), 0 1px 3px 1px rgba(60, 64, 67, 0.15);\n",
              "    fill: var(--button-hover-fill-color);\n",
              "  }\n",
              "\n",
              "  .colab-df-quickchart-complete:disabled,\n",
              "  .colab-df-quickchart-complete:disabled:hover {\n",
              "    background-color: var(--disabled-bg-color);\n",
              "    fill: var(--disabled-fill-color);\n",
              "    box-shadow: none;\n",
              "  }\n",
              "\n",
              "  .colab-df-spinner {\n",
              "    border: 2px solid var(--fill-color);\n",
              "    border-color: transparent;\n",
              "    border-bottom-color: var(--fill-color);\n",
              "    animation:\n",
              "      spin 1s steps(1) infinite;\n",
              "  }\n",
              "\n",
              "  @keyframes spin {\n",
              "    0% {\n",
              "      border-color: transparent;\n",
              "      border-bottom-color: var(--fill-color);\n",
              "      border-left-color: var(--fill-color);\n",
              "    }\n",
              "    20% {\n",
              "      border-color: transparent;\n",
              "      border-left-color: var(--fill-color);\n",
              "      border-top-color: var(--fill-color);\n",
              "    }\n",
              "    30% {\n",
              "      border-color: transparent;\n",
              "      border-left-color: var(--fill-color);\n",
              "      border-top-color: var(--fill-color);\n",
              "      border-right-color: var(--fill-color);\n",
              "    }\n",
              "    40% {\n",
              "      border-color: transparent;\n",
              "      border-right-color: var(--fill-color);\n",
              "      border-top-color: var(--fill-color);\n",
              "    }\n",
              "    60% {\n",
              "      border-color: transparent;\n",
              "      border-right-color: var(--fill-color);\n",
              "    }\n",
              "    80% {\n",
              "      border-color: transparent;\n",
              "      border-right-color: var(--fill-color);\n",
              "      border-bottom-color: var(--fill-color);\n",
              "    }\n",
              "    90% {\n",
              "      border-color: transparent;\n",
              "      border-bottom-color: var(--fill-color);\n",
              "    }\n",
              "  }\n",
              "</style>\n",
              "\n",
              "  <script>\n",
              "    async function quickchart(key) {\n",
              "      const quickchartButtonEl =\n",
              "        document.querySelector('#' + key + ' button');\n",
              "      quickchartButtonEl.disabled = true;  // To prevent multiple clicks.\n",
              "      quickchartButtonEl.classList.add('colab-df-spinner');\n",
              "      try {\n",
              "        const charts = await google.colab.kernel.invokeFunction(\n",
              "            'suggestCharts', [key], {});\n",
              "      } catch (error) {\n",
              "        console.error('Error during call to suggestCharts:', error);\n",
              "      }\n",
              "      quickchartButtonEl.classList.remove('colab-df-spinner');\n",
              "      quickchartButtonEl.classList.add('colab-df-quickchart-complete');\n",
              "    }\n",
              "    (() => {\n",
              "      let quickchartButtonEl =\n",
              "        document.querySelector('#df-c72b3315-351d-460c-b616-7cee265063db button');\n",
              "      quickchartButtonEl.style.display =\n",
              "        google.colab.kernel.accessAllowed ? 'block' : 'none';\n",
              "    })();\n",
              "  </script>\n",
              "</div>\n",
              "    </div>\n",
              "  </div>\n"
            ]
          },
          "metadata": {},
          "execution_count": 6
        }
      ],
      "source": [
        "df = df.dropna()\n",
        "df.head()"
      ]
    },
    {
      "cell_type": "code",
      "execution_count": null,
      "metadata": {
        "id": "Sb2bEL7YOMjr",
        "outputId": "f9dfcfbf-21ce-4327-d981-aece32d745ad",
        "colab": {
          "base_uri": "https://localhost:8080/"
        }
      },
      "outputs": [
        {
          "output_type": "stream",
          "name": "stderr",
          "text": [
            "<ipython-input-18-6c8d09b63a74>:2: SettingWithCopyWarning: \n",
            "A value is trying to be set on a copy of a slice from a DataFrame.\n",
            "Try using .loc[row_indexer,col_indexer] = value instead\n",
            "\n",
            "See the caveats in the documentation: https://pandas.pydata.org/pandas-docs/stable/user_guide/indexing.html#returning-a-view-versus-a-copy\n",
            "  df[\"sentence\"] = df[\"sentence\"].str[:500]\n",
            "<ipython-input-18-6c8d09b63a74>:4: SettingWithCopyWarning: \n",
            "A value is trying to be set on a copy of a slice from a DataFrame.\n",
            "Try using .loc[row_indexer,col_indexer] = value instead\n",
            "\n",
            "See the caveats in the documentation: https://pandas.pydata.org/pandas-docs/stable/user_guide/indexing.html#returning-a-view-versus-a-copy\n",
            "  df[\"title_text\"] = df[\"subject\"] + \". \" + df[\"sentence\"]\n"
          ]
        }
      ],
      "source": [
        "# select first 1000 characters\n",
        "df[\"sentence\"] = df[\"sentence\"].str[:500]\n",
        "# join article title and the text\n",
        "df[\"title_text\"] = df[\"subject\"] + \". \" + df[\"sentence\"]"
      ]
    },
    {
      "cell_type": "markdown",
      "metadata": {
        "id": "ciqKCl9gbN7s"
      },
      "source": [
        "# Initialize NER Model"
      ]
    },
    {
      "cell_type": "code",
      "execution_count": null,
      "metadata": {
        "id": "kyu5qdDMooua"
      },
      "outputs": [],
      "source": [
        "import torch\n",
        "\n",
        "# set device to GPU if available\n",
        "device = torch.cuda.current_device() if torch.cuda.is_available() else None"
      ]
    },
    {
      "cell_type": "code",
      "execution_count": null,
      "metadata": {
        "colab": {
          "base_uri": "https://localhost:8080/"
        },
        "id": "PY7wu5f3_4GJ",
        "outputId": "a14b9b0a-5aab-4703-8461-8ca5bceaa659"
      },
      "outputs": [
        {
          "output_type": "stream",
          "name": "stderr",
          "text": [
            "Some weights of the model checkpoint at HooshvareLab/bert-base-parsbert-ner-uncased were not used when initializing BertForTokenClassification: ['bert.pooler.dense.bias', 'bert.pooler.dense.weight']\n",
            "- This IS expected if you are initializing BertForTokenClassification from the checkpoint of a model trained on another task or with another architecture (e.g. initializing a BertForSequenceClassification model from a BertForPreTraining model).\n",
            "- This IS NOT expected if you are initializing BertForTokenClassification from the checkpoint of a model that you expect to be exactly identical (initializing a BertForSequenceClassification model from a BertForSequenceClassification model).\n"
          ]
        }
      ],
      "source": [
        "from transformers import AutoTokenizer, AutoModelForTokenClassification\n",
        "from transformers import pipeline\n",
        "\n",
        "model_id = \"HooshvareLab/bert-base-parsbert-ner-uncased\"\n",
        "\n",
        "# load the tokenizer from huggingface\n",
        "tokenizer = AutoTokenizer.from_pretrained(\n",
        "    model_id\n",
        ")\n",
        "# load the NER model from huggingface\n",
        "model = AutoModelForTokenClassification.from_pretrained(\n",
        "    model_id\n",
        ")\n",
        "# load the tokenizer and model into a NER pipeline\n",
        "nlp = pipeline(\n",
        "    \"ner\",\n",
        "    model=model,\n",
        "    tokenizer=tokenizer,\n",
        "    aggregation_strategy=\"max\",\n",
        "    device=device\n",
        ")"
      ]
    },
    {
      "cell_type": "code",
      "execution_count": null,
      "metadata": {
        "colab": {
          "base_uri": "https://localhost:8080/"
        },
        "id": "1OIXMIx2_7AA",
        "outputId": "9559384d-b307-4927-ae82-f9e0630b51c1"
      },
      "outputs": [
        {
          "output_type": "stream",
          "name": "stderr",
          "text": [
            "Asking to truncate to max_length but no maximum length is provided and the model has no predefined maximum length. Default to no truncation.\n"
          ]
        },
        {
          "output_type": "execute_result",
          "data": {
            "text/plain": [
              "[{'entity_group': 'location',\n",
              "  'score': 0.9996954,\n",
              "  'word': 'تهران',\n",
              "  'start': 0,\n",
              "  'end': 5},\n",
              " {'entity_group': 'location',\n",
              "  'score': 0.9996921,\n",
              "  'word': 'ایران',\n",
              "  'start': 13,\n",
              "  'end': 18}]"
            ]
          },
          "metadata": {},
          "execution_count": 10
        }
      ],
      "source": [
        "text = \"تهران پایتخت ایران است\"\n",
        "# use the NER pipeline to extract named entities from the text\n",
        "nlp(text)"
      ]
    },
    {
      "cell_type": "markdown",
      "metadata": {
        "id": "cb5Ln9SHS3cu"
      },
      "source": [
        "Our NER pipeline is working as expected and accurately extracting entities from the text."
      ]
    },
    {
      "cell_type": "markdown",
      "metadata": {
        "id": "vLK8AklElh_H"
      },
      "source": [
        "# Initialize Retriever"
      ]
    },
    {
      "cell_type": "code",
      "execution_count": null,
      "metadata": {
        "colab": {
          "base_uri": "https://localhost:8080/"
        },
        "id": "6fdGP3a7HhWe",
        "outputId": "31ace33e-d57a-451e-8e43-84f2715bcc69"
      },
      "outputs": [
        {
          "output_type": "execute_result",
          "data": {
            "text/plain": [
              "SentenceTransformer(\n",
              "  (0): Transformer({'max_seq_length': 128, 'do_lower_case': False}) with Transformer model: XLMRobertaModel \n",
              "  (1): Pooling({'word_embedding_dimension': 768, 'pooling_mode_cls_token': False, 'pooling_mode_mean_tokens': True, 'pooling_mode_max_tokens': False, 'pooling_mode_mean_sqrt_len_tokens': False})\n",
              ")"
            ]
          },
          "metadata": {},
          "execution_count": 20
        }
      ],
      "source": [
        "from sentence_transformers import SentenceTransformer\n",
        "\n",
        "# load the model from huggingface\n",
        "retriever = SentenceTransformer(\n",
        "    'sentence-transformers/paraphrase-multilingual-mpnet-base-v2',\n",
        "    device=device\n",
        ")\n",
        "retriever"
      ]
    },
    {
      "cell_type": "markdown",
      "metadata": {
        "id": "kAQouih7Kc9X"
      },
      "source": [
        "# Initialize Pinecone Index"
      ]
    },
    {
      "cell_type": "markdown",
      "metadata": {
        "id": "pI9ENCKlTq6m"
      },
      "source": [
        " For this, we need a free [API key](https://app.pinecone.io/); you can find your environment in the [Pinecone console](https://app.pinecone.io) under **API Keys**."
      ]
    },
    {
      "cell_type": "code",
      "execution_count": null,
      "metadata": {
        "id": "gxfkKt4oX4PP",
        "outputId": "e8afa685-74c3-46a0-c5e4-9312f157cc32",
        "colab": {
          "base_uri": "https://localhost:8080/"
        }
      },
      "outputs": [
        {
          "output_type": "stream",
          "name": "stderr",
          "text": [
            "ERROR:root:init had unexpected keyword argument(s): enviroment\n"
          ]
        }
      ],
      "source": [
        "import os\n",
        "import pinecone\n",
        "\n",
        "api_key = os.environ.get(\"PINECONE_API_KEY\") or \"YOUR-API-KEY\"\n",
        "env = os.environ.get(\"PINECONE_ENVIRONMENT\") or \"YOUR-ENVIRONMENT\"\n",
        "pinecone.init(api_key=api_key, enviroment=env)"
      ]
    },
    {
      "cell_type": "markdown",
      "metadata": {
        "id": "bWXiQV0qUqv3"
      },
      "source": [
        "Now we can create our vector index. We will name it `ner-search` (feel free to chose any name you prefer). We specify the metric type as `cosine` and dimension as `768` as these are the vector space and dimensionality of the vectors output by the retriever model."
      ]
    },
    {
      "cell_type": "code",
      "execution_count": null,
      "metadata": {
        "id": "WsyJ4_Ph6mY5"
      },
      "outputs": [],
      "source": [
        "index_name = \"ner-search\""
      ]
    },
    {
      "cell_type": "code",
      "execution_count": null,
      "metadata": {
        "id": "v2b5UMnaUaPQ"
      },
      "outputs": [],
      "source": [
        "# check if the ner-search index exists\n",
        "if index_name not in pinecone.list_indexes():\n",
        "    # create the index if it does not exist\n",
        "    pinecone.create_index(\n",
        "        index_name,\n",
        "        dimension=768,\n",
        "        metric=\"cosine\"\n",
        "    )\n",
        "\n",
        "# connect to ner-search index we created\n",
        "index = pinecone.Index(index_name)"
      ]
    },
    {
      "cell_type": "markdown",
      "metadata": {
        "id": "X0zu4ebVYvVi"
      },
      "source": [
        "# Generate Embeddings and Upsert"
      ]
    },
    {
      "cell_type": "code",
      "execution_count": null,
      "metadata": {
        "id": "0Vk1FW45LkCa"
      },
      "outputs": [],
      "source": [
        "def extract_named_entities(text_batch):\n",
        "    # extract named entities using the NER pipeline\n",
        "    extracted_batch = nlp(text_batch)\n",
        "    entities = []\n",
        "    # loop through the results and only select the entity names\n",
        "    for text in extracted_batch:\n",
        "        ne = [entity[\"word\"] for entity in text]\n",
        "        entities.append(ne)\n",
        "    return entities"
      ]
    },
    {
      "cell_type": "code",
      "execution_count": null,
      "metadata": {
        "colab": {
          "base_uri": "https://localhost:8080/",
          "height": 136,
          "referenced_widgets": [
            "2a6b022e37834758b72d094d806af287",
            "0f1d264529f247489c13705ac92af2b8",
            "a18ff7ef2c0e437093faaab7b0004693",
            "6ac817414f274c5fa781153f7a53de98",
            "767456af466341f9b40af532d2d625b9",
            "d9c881efae674eca8ebe189ae0720335",
            "08a7987706234354b3d830c43008d35e",
            "13e343cd81fc4f4caa590cfe5706f46d",
            "65c14a715bfd483288c20c11088129d3",
            "e282b1e9344744b39669c70745bf5a0d",
            "1c4c417d50e4430991395639d2d67060"
          ]
        },
        "id": "MZ6JP50wSm9o",
        "outputId": "15c4902d-727e-447f-d88a-31b36beb76ec"
      },
      "outputs": [
        {
          "output_type": "display_data",
          "data": {
            "text/plain": [
              "  0%|          | 0/186 [00:00<?, ?it/s]"
            ],
            "application/vnd.jupyter.widget-view+json": {
              "version_major": 2,
              "version_minor": 0,
              "model_id": "2a6b022e37834758b72d094d806af287"
            }
          },
          "metadata": {}
        },
        {
          "output_type": "stream",
          "name": "stderr",
          "text": [
            "Asking to truncate to max_length but no maximum length is provided and the model has no predefined maximum length. Default to no truncation.\n"
          ]
        },
        {
          "output_type": "execute_result",
          "data": {
            "text/plain": [
              "{'dimension': 768,\n",
              " 'index_fullness': 0.1,\n",
              " 'namespaces': {'': {'vector_count': 20000}},\n",
              " 'total_vector_count': 20000}"
            ]
          },
          "metadata": {},
          "execution_count": 22
        }
      ],
      "source": [
        "from tqdm.auto import tqdm\n",
        "import warnings\n",
        "warnings.filterwarnings('ignore', category=UserWarning)\n",
        "\n",
        "# we will use batches of 64\n",
        "batch_size = 64\n",
        "\n",
        "for i in tqdm(range(0, len(df), batch_size)):\n",
        "    # find end of batch\n",
        "    i_end = min(i+batch_size, len(df))\n",
        "    # extract batch\n",
        "    batch = df.iloc[i:i_end].copy()\n",
        "    # generate embeddings for batch\n",
        "    emb = retriever.encode(batch[\"title_text\"].tolist()).tolist()\n",
        "    # extract named entities from the batch\n",
        "    entities = extract_named_entities(batch[\"title_text\"].tolist())\n",
        "    # remove duplicate entities from each record\n",
        "    batch[\"named_entities\"] = [list(set(entity)) for entity in entities]\n",
        "    batch = batch.drop('title_text', axis=1)\n",
        "    # get metadata\n",
        "    meta = batch.to_dict(orient=\"records\")\n",
        "    # create unique IDs\n",
        "    ids = [f\"{idx}\" for idx in range(i, i_end)]\n",
        "    # add all to upsert list\n",
        "    to_upsert = list(zip(ids, emb, meta))\n",
        "    # upsert/insert these records to pinecone\n",
        "    _ = index.upsert(vectors=to_upsert)\n",
        "\n",
        "# check that we have all vectors in index\n",
        "index.describe_index_stats()"
      ]
    },
    {
      "cell_type": "markdown",
      "metadata": {
        "id": "Zu-vflsWQfCQ"
      },
      "source": [
        "# Querying"
      ]
    },
    {
      "cell_type": "code",
      "execution_count": null,
      "metadata": {
        "id": "5ROdRPTUX0LI"
      },
      "outputs": [],
      "source": [
        "from pprint import pprint\n",
        "\n",
        "def search_pinecone(query):\n",
        "    # extract named entities from the query\n",
        "    ne = extract_named_entities([query])[0]\n",
        "    # create embeddings for the query\n",
        "    xq = retriever.encode(query).tolist()\n",
        "    # query the pinecone index while applying named entity filter\n",
        "    xc = index.query(xq, top_k=10, include_metadata=True, filter={\"named_entities\": {\"$in\": ne}})\n",
        "    # extract article titles from the search result\n",
        "    r = [x[\"metadata\"][\"subject\"] for x in xc[\"matches\"]]\n",
        "    return pprint({\"Extracted Named Entities\": ne, \"Result\": r})"
      ]
    },
    {
      "cell_type": "markdown",
      "metadata": {
        "id": "iu1ddk-Nnuc8"
      },
      "source": [
        "Now try a query."
      ]
    },
    {
      "cell_type": "code",
      "execution_count": null,
      "metadata": {
        "colab": {
          "base_uri": "https://localhost:8080/"
        },
        "id": "nAGsfLQpXqCl",
        "outputId": "4dfbf086-ca6b-4a1a-fd1f-74c037df60df"
      },
      "outputs": [
        {
          "output_type": "stream",
          "name": "stdout",
          "text": [
            "{'Extracted Named Entities': ['تهران'],\n",
            " 'Result': ['کاخ گلستان',\n",
            "            'از تهران یک روزه به کجا برویم',\n",
            "            'عیار طبیعت تهران',\n",
            "            'آشنایی با عمارت کاظمی',\n",
            "            'نمایشگاه بین\\u200cالمللی تهران کجاست ؟',\n",
            "            'تفریحی جذاب و متفاوت در آبشار تهران',\n",
            "            'بازار سنتی تجریش مکانی برای خرید',\n",
            "            'قیمت آپارتمان در تهران',\n",
            "            'مشاهدات پروفسور سایمون بل از طراحی شهری تهران',\n",
            "            'دریاچه چیتگر را به خاطر بسپارید']}\n"
          ]
        }
      ],
      "source": [
        "query = \"جاهای دیدنی تهران\"\n",
        "search_pinecone(query)"
      ]
    },
    {
      "cell_type": "code",
      "execution_count": null,
      "metadata": {
        "colab": {
          "base_uri": "https://localhost:8080/"
        },
        "id": "F7BPaymZZsx7",
        "outputId": "c8489813-f1ff-4096-9237-df83f5b2bc1d"
      },
      "outputs": [
        {
          "output_type": "stream",
          "name": "stdout",
          "text": [
            "{'Extracted Named Entities': ['اصفهان'],\n",
            " 'Result': ['سوغات و صنایع دستی اصفهان',\n",
            "            'سوغات و صنایع دستی اصفهان',\n",
            "            'رستوران ترنج اصفهان',\n",
            "            'سفر به زنجان، مقصد همیشه ارزان و در دسترس(۱)',\n",
            "            'قضاوت نابجا',\n",
            "            'مسیر طراحی سایت در اصفهان چگونه است؟',\n",
            "            'مسیر طراحی سایت در اصفهان چگونه است؟',\n",
            "            'طرز پخت قیمه ریزه',\n",
            "            'خیابان\\u200cهای طرح ترافیک در اصفهان در چه محدوده ای قرار دارند؟',\n",
            "            'شروع داستان سئو سایت در اصفهان']}\n"
          ]
        }
      ],
      "source": [
        "query = \"جاهای دیدنی اصفهان\"\n",
        "search_pinecone(query)"
      ]
    }
  ],
  "metadata": {
    "accelerator": "GPU",
    "colab": {
      "gpuType": "T4",
      "provenance": [],
      "include_colab_link": true
    },
    "kernelspec": {
      "display_name": "Python 3",
      "name": "python3"
    },
    "language_info": {
      "codemirror_mode": {
        "name": "ipython",
        "version": 3
      },
      "file_extension": ".py",
      "mimetype": "text/x-python",
      "name": "python",
      "nbconvert_exporter": "python",
      "pygments_lexer": "ipython3",
      "version": "3.8.5"
    },
    "widgets": {
      "application/vnd.jupyter.widget-state+json": {
        "2a6b022e37834758b72d094d806af287": {
          "model_module": "@jupyter-widgets/controls",
          "model_name": "HBoxModel",
          "model_module_version": "1.5.0",
          "state": {
            "_dom_classes": [],
            "_model_module": "@jupyter-widgets/controls",
            "_model_module_version": "1.5.0",
            "_model_name": "HBoxModel",
            "_view_count": null,
            "_view_module": "@jupyter-widgets/controls",
            "_view_module_version": "1.5.0",
            "_view_name": "HBoxView",
            "box_style": "",
            "children": [
              "IPY_MODEL_0f1d264529f247489c13705ac92af2b8",
              "IPY_MODEL_a18ff7ef2c0e437093faaab7b0004693",
              "IPY_MODEL_6ac817414f274c5fa781153f7a53de98"
            ],
            "layout": "IPY_MODEL_767456af466341f9b40af532d2d625b9"
          }
        },
        "0f1d264529f247489c13705ac92af2b8": {
          "model_module": "@jupyter-widgets/controls",
          "model_name": "HTMLModel",
          "model_module_version": "1.5.0",
          "state": {
            "_dom_classes": [],
            "_model_module": "@jupyter-widgets/controls",
            "_model_module_version": "1.5.0",
            "_model_name": "HTMLModel",
            "_view_count": null,
            "_view_module": "@jupyter-widgets/controls",
            "_view_module_version": "1.5.0",
            "_view_name": "HTMLView",
            "description": "",
            "description_tooltip": null,
            "layout": "IPY_MODEL_d9c881efae674eca8ebe189ae0720335",
            "placeholder": "​",
            "style": "IPY_MODEL_08a7987706234354b3d830c43008d35e",
            "value": "100%"
          }
        },
        "a18ff7ef2c0e437093faaab7b0004693": {
          "model_module": "@jupyter-widgets/controls",
          "model_name": "FloatProgressModel",
          "model_module_version": "1.5.0",
          "state": {
            "_dom_classes": [],
            "_model_module": "@jupyter-widgets/controls",
            "_model_module_version": "1.5.0",
            "_model_name": "FloatProgressModel",
            "_view_count": null,
            "_view_module": "@jupyter-widgets/controls",
            "_view_module_version": "1.5.0",
            "_view_name": "ProgressView",
            "bar_style": "success",
            "description": "",
            "description_tooltip": null,
            "layout": "IPY_MODEL_13e343cd81fc4f4caa590cfe5706f46d",
            "max": 186,
            "min": 0,
            "orientation": "horizontal",
            "style": "IPY_MODEL_65c14a715bfd483288c20c11088129d3",
            "value": 186
          }
        },
        "6ac817414f274c5fa781153f7a53de98": {
          "model_module": "@jupyter-widgets/controls",
          "model_name": "HTMLModel",
          "model_module_version": "1.5.0",
          "state": {
            "_dom_classes": [],
            "_model_module": "@jupyter-widgets/controls",
            "_model_module_version": "1.5.0",
            "_model_name": "HTMLModel",
            "_view_count": null,
            "_view_module": "@jupyter-widgets/controls",
            "_view_module_version": "1.5.0",
            "_view_name": "HTMLView",
            "description": "",
            "description_tooltip": null,
            "layout": "IPY_MODEL_e282b1e9344744b39669c70745bf5a0d",
            "placeholder": "​",
            "style": "IPY_MODEL_1c4c417d50e4430991395639d2d67060",
            "value": " 186/186 [07:22&lt;00:00,  1.82s/it]"
          }
        },
        "767456af466341f9b40af532d2d625b9": {
          "model_module": "@jupyter-widgets/base",
          "model_name": "LayoutModel",
          "model_module_version": "1.2.0",
          "state": {
            "_model_module": "@jupyter-widgets/base",
            "_model_module_version": "1.2.0",
            "_model_name": "LayoutModel",
            "_view_count": null,
            "_view_module": "@jupyter-widgets/base",
            "_view_module_version": "1.2.0",
            "_view_name": "LayoutView",
            "align_content": null,
            "align_items": null,
            "align_self": null,
            "border": null,
            "bottom": null,
            "display": null,
            "flex": null,
            "flex_flow": null,
            "grid_area": null,
            "grid_auto_columns": null,
            "grid_auto_flow": null,
            "grid_auto_rows": null,
            "grid_column": null,
            "grid_gap": null,
            "grid_row": null,
            "grid_template_areas": null,
            "grid_template_columns": null,
            "grid_template_rows": null,
            "height": null,
            "justify_content": null,
            "justify_items": null,
            "left": null,
            "margin": null,
            "max_height": null,
            "max_width": null,
            "min_height": null,
            "min_width": null,
            "object_fit": null,
            "object_position": null,
            "order": null,
            "overflow": null,
            "overflow_x": null,
            "overflow_y": null,
            "padding": null,
            "right": null,
            "top": null,
            "visibility": null,
            "width": null
          }
        },
        "d9c881efae674eca8ebe189ae0720335": {
          "model_module": "@jupyter-widgets/base",
          "model_name": "LayoutModel",
          "model_module_version": "1.2.0",
          "state": {
            "_model_module": "@jupyter-widgets/base",
            "_model_module_version": "1.2.0",
            "_model_name": "LayoutModel",
            "_view_count": null,
            "_view_module": "@jupyter-widgets/base",
            "_view_module_version": "1.2.0",
            "_view_name": "LayoutView",
            "align_content": null,
            "align_items": null,
            "align_self": null,
            "border": null,
            "bottom": null,
            "display": null,
            "flex": null,
            "flex_flow": null,
            "grid_area": null,
            "grid_auto_columns": null,
            "grid_auto_flow": null,
            "grid_auto_rows": null,
            "grid_column": null,
            "grid_gap": null,
            "grid_row": null,
            "grid_template_areas": null,
            "grid_template_columns": null,
            "grid_template_rows": null,
            "height": null,
            "justify_content": null,
            "justify_items": null,
            "left": null,
            "margin": null,
            "max_height": null,
            "max_width": null,
            "min_height": null,
            "min_width": null,
            "object_fit": null,
            "object_position": null,
            "order": null,
            "overflow": null,
            "overflow_x": null,
            "overflow_y": null,
            "padding": null,
            "right": null,
            "top": null,
            "visibility": null,
            "width": null
          }
        },
        "08a7987706234354b3d830c43008d35e": {
          "model_module": "@jupyter-widgets/controls",
          "model_name": "DescriptionStyleModel",
          "model_module_version": "1.5.0",
          "state": {
            "_model_module": "@jupyter-widgets/controls",
            "_model_module_version": "1.5.0",
            "_model_name": "DescriptionStyleModel",
            "_view_count": null,
            "_view_module": "@jupyter-widgets/base",
            "_view_module_version": "1.2.0",
            "_view_name": "StyleView",
            "description_width": ""
          }
        },
        "13e343cd81fc4f4caa590cfe5706f46d": {
          "model_module": "@jupyter-widgets/base",
          "model_name": "LayoutModel",
          "model_module_version": "1.2.0",
          "state": {
            "_model_module": "@jupyter-widgets/base",
            "_model_module_version": "1.2.0",
            "_model_name": "LayoutModel",
            "_view_count": null,
            "_view_module": "@jupyter-widgets/base",
            "_view_module_version": "1.2.0",
            "_view_name": "LayoutView",
            "align_content": null,
            "align_items": null,
            "align_self": null,
            "border": null,
            "bottom": null,
            "display": null,
            "flex": null,
            "flex_flow": null,
            "grid_area": null,
            "grid_auto_columns": null,
            "grid_auto_flow": null,
            "grid_auto_rows": null,
            "grid_column": null,
            "grid_gap": null,
            "grid_row": null,
            "grid_template_areas": null,
            "grid_template_columns": null,
            "grid_template_rows": null,
            "height": null,
            "justify_content": null,
            "justify_items": null,
            "left": null,
            "margin": null,
            "max_height": null,
            "max_width": null,
            "min_height": null,
            "min_width": null,
            "object_fit": null,
            "object_position": null,
            "order": null,
            "overflow": null,
            "overflow_x": null,
            "overflow_y": null,
            "padding": null,
            "right": null,
            "top": null,
            "visibility": null,
            "width": null
          }
        },
        "65c14a715bfd483288c20c11088129d3": {
          "model_module": "@jupyter-widgets/controls",
          "model_name": "ProgressStyleModel",
          "model_module_version": "1.5.0",
          "state": {
            "_model_module": "@jupyter-widgets/controls",
            "_model_module_version": "1.5.0",
            "_model_name": "ProgressStyleModel",
            "_view_count": null,
            "_view_module": "@jupyter-widgets/base",
            "_view_module_version": "1.2.0",
            "_view_name": "StyleView",
            "bar_color": null,
            "description_width": ""
          }
        },
        "e282b1e9344744b39669c70745bf5a0d": {
          "model_module": "@jupyter-widgets/base",
          "model_name": "LayoutModel",
          "model_module_version": "1.2.0",
          "state": {
            "_model_module": "@jupyter-widgets/base",
            "_model_module_version": "1.2.0",
            "_model_name": "LayoutModel",
            "_view_count": null,
            "_view_module": "@jupyter-widgets/base",
            "_view_module_version": "1.2.0",
            "_view_name": "LayoutView",
            "align_content": null,
            "align_items": null,
            "align_self": null,
            "border": null,
            "bottom": null,
            "display": null,
            "flex": null,
            "flex_flow": null,
            "grid_area": null,
            "grid_auto_columns": null,
            "grid_auto_flow": null,
            "grid_auto_rows": null,
            "grid_column": null,
            "grid_gap": null,
            "grid_row": null,
            "grid_template_areas": null,
            "grid_template_columns": null,
            "grid_template_rows": null,
            "height": null,
            "justify_content": null,
            "justify_items": null,
            "left": null,
            "margin": null,
            "max_height": null,
            "max_width": null,
            "min_height": null,
            "min_width": null,
            "object_fit": null,
            "object_position": null,
            "order": null,
            "overflow": null,
            "overflow_x": null,
            "overflow_y": null,
            "padding": null,
            "right": null,
            "top": null,
            "visibility": null,
            "width": null
          }
        },
        "1c4c417d50e4430991395639d2d67060": {
          "model_module": "@jupyter-widgets/controls",
          "model_name": "DescriptionStyleModel",
          "model_module_version": "1.5.0",
          "state": {
            "_model_module": "@jupyter-widgets/controls",
            "_model_module_version": "1.5.0",
            "_model_name": "DescriptionStyleModel",
            "_view_count": null,
            "_view_module": "@jupyter-widgets/base",
            "_view_module_version": "1.2.0",
            "_view_name": "StyleView",
            "description_width": ""
          }
        }
      }
    }
  },
  "nbformat": 4,
  "nbformat_minor": 0
}